{
 "cells": [
  {
   "cell_type": "code",
   "execution_count": 3,
   "metadata": {},
   "outputs": [
    {
     "name": "stdout",
     "output_type": "stream",
     "text": [
      "ALL SET.\n",
      "The sum of the first 5 numbers is 15\n",
      "The matrix representation is: \n",
      " 1   0   0   0   0   0   0  \n",
      "\n",
      " 0   1   0   0   0   0   0  \n",
      "\n",
      " 0   0   1   0   0   0   0  \n",
      "\n",
      " 0   0   0   1   0   0   0  \n",
      "\n",
      " 0   0   0   0   1   0   0  \n",
      "\n",
      " 0   0   0   0   0   1   0  \n",
      "\n",
      " 0   0   0   0   0   0   1  \n",
      "\n",
      "---\n"
     ]
    }
   ],
   "source": [
    "print(\"ALL SET.\")\n",
    "\n",
    "from the_quiver import *\n",
    "\n",
    "sumN(5)\n",
    "\n",
    "disp_matx(identity_matx(7))"
   ]
  }
 ],
 "metadata": {
  "interpreter": {
   "hash": "a10fe58052d53de2f628fe753df202ab061ed00aa63930584c0feb86b9c4bc70"
  },
  "kernelspec": {
   "display_name": "Python 3.7.4 32-bit",
   "language": "python",
   "name": "python3"
  },
  "language_info": {
   "codemirror_mode": {
    "name": "ipython",
    "version": 3
   },
   "file_extension": ".py",
   "mimetype": "text/x-python",
   "name": "python",
   "nbconvert_exporter": "python",
   "pygments_lexer": "ipython3",
   "version": "3.7.4"
  },
  "orig_nbformat": 4
 },
 "nbformat": 4,
 "nbformat_minor": 2
}

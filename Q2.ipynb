{
 "cells": [
  {
   "cell_type": "code",
   "execution_count": 31,
   "metadata": {},
   "outputs": [
    {
     "name": "stdout",
     "output_type": "stream",
     "text": [
      "The potential at a height 1.5 m from the 1 m point is 1.8740055851493043 units.\n"
     ]
    }
   ],
   "source": [
    "from the_quiver import *\n",
    "from math import e, sqrt\n",
    "\n",
    "# coefficients in the given question\n",
    "\n",
    "L = 4\n",
    "k = 1\n",
    "d = 1.5\n",
    "\n",
    "def f1(x): # \\lambda(x) i.e. the charge density function\n",
    "    return e**(-(x**2)/L**2)\n",
    "\n",
    "def f2(x): # Electric field function i.e. the integrand of the potential function\n",
    "    return (k*f1(x))/sqrt((x**2) + (d**2))\n",
    "\n",
    "phi = Int_Simpson(f2,-1,L-1,1200)\n",
    "\n",
    "print(\"The potential at a height \" + str(d) + \" m from the 1 m point is \" + str(phi) + \" units.\")\n",
    "\n",
    "# it did not update, this is to verify"
   ]
  }
 ],
 "metadata": {
  "interpreter": {
   "hash": "a10fe58052d53de2f628fe753df202ab061ed00aa63930584c0feb86b9c4bc70"
  },
  "kernelspec": {
   "display_name": "Python 3.7.4 32-bit",
   "language": "python",
   "name": "python3"
  },
  "language_info": {
   "name": "python",
   "version": "3.7.4"
  },
  "orig_nbformat": 4
 },
 "nbformat": 4,
 "nbformat_minor": 2
}

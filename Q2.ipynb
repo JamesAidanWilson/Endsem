{
 "cells": [
  {
   "cell_type": "code",
   "execution_count": null,
   "metadata": {},
   "outputs": [],
   "source": [
    "from the_quiver import *\n",
    "from math import exp\n",
    "\n",
    "def f1(x):\n",
    "    return exp(-(X))"
   ]
  }
 ],
 "metadata": {
  "language_info": {
   "name": "python"
  },
  "orig_nbformat": 4
 },
 "nbformat": 4,
 "nbformat_minor": 2
}

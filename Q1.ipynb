{
 "cells": [
  {
   "cell_type": "code",
   "execution_count": 14,
   "metadata": {},
   "outputs": [
    {
     "name": "stdout",
     "output_type": "stream",
     "text": [
      "The sum of the first 4 numbers is 10\n",
      "4.139495798319328 is the root.\n",
      "The root is: 4.139495798319328\n",
      "The root is: 3.929948767779832\n",
      "3.929948767779832  litres is the initial volume.\n"
     ]
    }
   ],
   "source": [
    "from the_quiver import *\n",
    "from matplotlib import pyplot as graph\n",
    "\n",
    "def f1(V): # Real gas equation (van der Waals)\n",
    "    p = 5.95; a = 6.254; b = 0.05422; T = 300; R = 0.0821\n",
    "    return ((p+(a/(V**2)))*(V-b) - R*T)\n",
    "# To estimate V_0\n",
    "\n",
    "def f2(V):  # Ideal gas equation\n",
    "    p = 5.95; T = 300; R = 0.0821\n",
    "    return (p*V - R*T)\n",
    "\n",
    "V_0_guess = NewtonRaphson(2,0.00001,f2) # Our guess for V_0  using the ideal gas equation\n",
    "\n",
    "V_0 = NewtonRaphson(V_0_guess,0.00001,f1) # Using our guess in the real gas equation\n",
    "\n",
    "print(V_0, \" litres is the initial volume.\")\n",
    "\n",
    "# it did not update so I wrote this comment to verify"
   ]
  },
  {
   "cell_type": "code",
   "execution_count": 15,
   "metadata": {},
   "outputs": [
    {
     "name": "stdout",
     "output_type": "stream",
     "text": [
      "The sum of the first 4 numbers is 10\n"
     ]
    }
   ],
   "source": [
    "#test\n",
    "\n",
    "sumN(4)"
   ]
  }
 ],
 "metadata": {
  "interpreter": {
   "hash": "a10fe58052d53de2f628fe753df202ab061ed00aa63930584c0feb86b9c4bc70"
  },
  "kernelspec": {
   "display_name": "Python 3.7.4 32-bit",
   "language": "python",
   "name": "python3"
  },
  "language_info": {
   "codemirror_mode": {
    "name": "ipython",
    "version": 3
   },
   "file_extension": ".py",
   "mimetype": "text/x-python",
   "name": "python",
   "nbconvert_exporter": "python",
   "pygments_lexer": "ipython3",
   "version": "3.7.4"
  },
  "orig_nbformat": 4
 },
 "nbformat": 4,
 "nbformat_minor": 2
}

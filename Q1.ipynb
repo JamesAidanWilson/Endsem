{
 "cells": [
  {
   "cell_type": "code",
   "execution_count": 8,
   "metadata": {},
   "outputs": [
    {
     "name": "stdout",
     "output_type": "stream",
     "text": [
      "4.139495798319328 is the root.\n",
      "The root is: 4.139495798319328\n",
      "The root is: 3.929948767779832\n"
     ]
    },
    {
     "data": {
      "text/plain": [
       "3.929948767779832"
      ]
     },
     "execution_count": 8,
     "metadata": {},
     "output_type": "execute_result"
    }
   ],
   "source": [
    "from the_quiver import *\n",
    "\n",
    "def f1(V): # Real gas equation (van der Waals)\n",
    "    p = 5.95; a = 6.254; b = 0.05422; T = 300; R = 0.0821\n",
    "    return ((p+(a/(V**2)))*(V-b) - R*T)\n",
    "\n",
    "# To estimate V_0\n",
    "\n",
    "def f2(V):  # Ideal gas equation\n",
    "    p = 5.95; T = 300; R = 0.0821\n",
    "    return (p*V - R*T)\n",
    "\n",
    "V_0 = NewtonRaphson(4,0.00001,f2)\n",
    "\n",
    "NewtonRaphson(V_0,0.00001,f1)"
   ]
  }
 ],
 "metadata": {
  "interpreter": {
   "hash": "a10fe58052d53de2f628fe753df202ab061ed00aa63930584c0feb86b9c4bc70"
  },
  "kernelspec": {
   "display_name": "Python 3.7.4 32-bit",
   "language": "python",
   "name": "python3"
  },
  "language_info": {
   "codemirror_mode": {
    "name": "ipython",
    "version": 3
   },
   "file_extension": ".py",
   "mimetype": "text/x-python",
   "name": "python",
   "nbconvert_exporter": "python",
   "pygments_lexer": "ipython3",
   "version": "3.7.4"
  },
  "orig_nbformat": 4
 },
 "nbformat": 4,
 "nbformat_minor": 2
}
